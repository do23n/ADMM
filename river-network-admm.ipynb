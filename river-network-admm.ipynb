{
 "cells": [
  {
   "cell_type": "markdown",
   "metadata": {},
   "source": [
    "# River network problem with multiple watersheds\n",
    "## Setup"
   ]
  },
  {
   "cell_type": "code",
   "execution_count": 16,
   "metadata": {},
   "outputs": [],
   "source": [
    "%matplotlib inline\n",
    "%reload_ext autoreload\n",
    "%autoreload 2\n",
    "\n",
    "import math\n",
    "import numpy as np\n",
    "from scipy.optimize import minimize\n",
    "import random\n",
    "import time\n",
    "\n",
    "\n",
    "import scipy.interpolate as interpolate\n",
    "from scipy.misc import derivative \n",
    "from scipy.spatial import ConvexHull\n",
    "import matplotlib.pyplot as plt\n",
    "import pandas as pd\n"
   ]
  },
  {
   "cell_type": "markdown",
   "metadata": {},
   "source": [
    "## Trisection method / Golden section search\n",
    "\n",
    "* Suppose we have a function f(x), find x’ such that f(x’) is a maximum of the function f(x) over an interval [a,b].\n",
    "* If f(x) is a concave, what we find is the global maximum; otherwise, it may be just a local maximum."
   ]
  },
  {
   "cell_type": "code",
   "execution_count": 17,
   "metadata": {},
   "outputs": [
    {
     "name": "stdout",
     "output_type": "stream",
     "text": [
      "149.99999866586523\n",
      "149.99999866586523\n"
     ]
    },
    {
     "data": {
      "text/plain": [
       "[<matplotlib.lines.Line2D at 0x10b5de0f0>]"
      ]
     },
     "execution_count": 17,
     "metadata": {},
     "output_type": "execute_result"
    },
    {
     "data": {
      "image/png": "[encoded data removed]",
      "text/plain": [
       "<Figure size 432x288 with 1 Axes>"
      ]
     },
     "metadata": {
      "needs_background": "light"
     },
     "output_type": "display_data"
    },
    {
     "data": {
      "image/png": "[encoded data removed]",
      "text/plain": [
       "<Figure size 432x288 with 1 Axes>"
      ]
     },
     "metadata": {
      "needs_background": "light"
     },
     "output_type": "display_data"
    }
   ],
   "source": [
    "phi = (math.sqrt(5) + 1) / 2 # golden ratio\n",
    "\n",
    "def gss(f, a, b, mode='max', tol=1e-8):\n",
    "    \"\"\"\n",
    "    Golden section search to find the maximum or minimum of f on [a,b]\n",
    "    Inputs:\n",
    "        f          a strictly unimodal function on [a,b]\n",
    "        a          starting value of the search interval\n",
    "        b          closing value of the search interval\n",
    "        mode       either 'max' to find maximum, or 'min' to find minimum\n",
    "        tol        tolerance for the solution\n",
    "    Return (tuple):\n",
    "        lam        learned dual variable vector (1d numpy array -- length num_species)\n",
    "        g_history  dual function in iteration (1d numpy array -- length iters)\n",
    "    \"\"\"\n",
    "    map = dict()\n",
    "    c = b - (b - a) / phi\n",
    "    d = a + (b - a) / phi \n",
    "    while abs(c - d) > tol:\n",
    "        if (c not in map):\n",
    "            map[c] = f(c)\n",
    "        if (d not in map):\n",
    "            map[d] = f(d)\n",
    "        if ((mode == 'min' and map[c] < map[d]) \n",
    "            or (mode == 'max' and map[c] > map[d])):\n",
    "            b = d\n",
    "            d = c\n",
    "            c = b - (b - a) / phi\n",
    "        else:\n",
    "            a = c\n",
    "            c = d\n",
    "            d = a + (b - a) / phi\n",
    "\n",
    "    return (b + a) / 2\n",
    "\n",
    "''' Test gss '''\n",
    "x = np.linspace(0, 500, 100) \n",
    "\n",
    "# test finding maximum\n",
    "f = lambda x: -3*x**2 + 900*x + 1\n",
    "y = f(x)\n",
    "plt.plot(x,y)\n",
    "x_prime = gss(f, 0, 500, 'max') # value of x at maximum of f in range [0, 500]\n",
    "print (x_prime) # should print ~150\n",
    "plt.plot(x_prime, f(x_prime), 'ro')\n",
    "\n",
    "# test finding minimum\n",
    "f = lambda x: 3*x**2 - 900*x - 1\n",
    "y = f(x)\n",
    "plt.figure()\n",
    "plt.plot(x,y)\n",
    "x_prime = gss(f, 0, 500, 'min') # value of x at minimum of g in range [0, 500]\n",
    "print (x_prime) # should print ~150\n",
    "plt.plot(x_prime, f(x_prime), 'ro')\n"
   ]
  },
  {
   "cell_type": "markdown",
   "metadata": {},
   "source": [
    "## Code for solving the optimization problem"
   ]
  },
  {
   "cell_type": "code",
   "execution_count": 18,
   "metadata": {},
   "outputs": [],
   "source": [
    "'''ADMM'''\n",
    "# add a or A as parameter, should not be used as global variable \n",
    "#TODO: take everything as parameter includng a and b and roi \n",
    "def dual_update(X, S, y, p, iters, x_max):\n",
    "    start_time1 = time.time()\n",
    "    L_history = np.zeros(iters)\n",
    "    first_deriv_copy = np.zeros(iters)\n",
    "    \n",
    "    #num_iters_ran = 0\n",
    "\n",
    "    for r in range(iters):            \n",
    "        #print(first_deriv[r])\n",
    "        if r in (1, 2, 3, 4, 5, 6, 7, 8, 9, 10, 50):             \n",
    "            print('round = ', r, ' takes', (time.time() - start_time1), ' seconds \\n')\n",
    "            start_time1 = time.time()\n",
    "                \n",
    "        for j in range(num_watersheds_total):\n",
    "            \n",
    "            '''\n",
    "            x_correct_func = lambda x: x-roi[j](x)*np.dot(y,a[:,j])+(p/2)*np.power(roi[j](x),2)*np.dot(a[:,j].T, a[:,j])-p*roi[j](x)*for_species(p,X,S,j)\n",
    "            x_func = lambda x: x - np.dot((y + p*b + p*S), a[:][j]*roi[j](x)) + (p/2)*np.power(np.linalg.norm(a[:][j]*roi[j](x)), 2)\n",
    "            X[j] = gss(x_correct_func, 0, x_max, 'min')\n",
    "            '''\n",
    "            # using scipy.minimize to see if it gets any faster...\n",
    "            # yeah... by 45 seconds (when rho = 400)\n",
    "            \n",
    "            def x_func(x):\n",
    "                return x-roi[j](x)*np.dot(y,a[:,j])+(p/2)*np.power(roi[j](x),2)*np.dot(a[:,j].T, a[:,j])-p*roi[j](x)*for_species(p,X,S,j)\n",
    "           \n",
    "            bnd_x = (0., x_max)\n",
    "            bndx = (bnd_x,)*1\n",
    "            x_init = [0]\n",
    "            opt = {'maxiter':200} # set max # of iterations \n",
    "            solx = minimize(x_func, x_init, bounds = bndx, options = opt)\n",
    "            X[j] = solx.x[0]\n",
    "            \n",
    "        \n",
    "        # roi[j] is a function, (X[j]) is the x coordinate value taken by this function\n",
    "        f = np.array([roi[j](X[j]) for j in range(num_watersheds_total)])\n",
    "        Af = np.dot(a, f)\n",
    "        for i in range(num_species):\n",
    "            '''\n",
    "            s_func = lambda s: ((y[i] + p*(b[i] - Af[i]))*s + (p/2)*s*s)\n",
    "            S[i] = gss(s_func, 0, x_max, 'min')\n",
    "            '''\n",
    "            \n",
    "            # using scipy.minimize to see if it gets any faster...\n",
    "            # yeah... by 45 seconds (rho = 400)\n",
    "\n",
    "            def s_func(s):\n",
    "                return ((y[i] + p*(b[i] - Af[i]))*s + (p/2)*s*s)\n",
    "           \n",
    "            bnd_s = (0., x_max)\n",
    "            bnds = (bnd_s,)*1\n",
    "            s_init = [0]\n",
    "            opt = {'maxiter':200} # set max # of iterations \n",
    "            sols = minimize(s_func, s_init, bounds = bnds, options = opt)\n",
    "            S[i] = sols.x[0]\n",
    "            \n",
    "        \n",
    "        y += p*(b - Af + S)\n",
    "        L_history[r] = np.sum(X) + np.dot(y, (b - Af + S)) + (p/2)*np.power(np.linalg.norm(b - Af + S), 2)\n",
    "        #print(\"Round\", r, \":\", L_history[r])\n",
    "        if(r >= 2):\n",
    "            first_deriv_copy[r-2]=(L_history[r-1]-L_history[r-2])/(L_history[r-2])\n",
    "            #print(\"Round\", r, \":\", (L_history[r-1]-L_history[r-2])/(L_history[r-2]))\n",
    "            #print(first_deriv_copy[r-2])\n",
    "            if((first_deriv_copy[r-2]<=1e-5) & (first_deriv_copy[r-2]>=-1e-5)):\n",
    "                #num_iters_ran = r-2\n",
    "                #print('linh tinh')\n",
    "                break\n",
    "                \n",
    "        #if (p < 350):\n",
    "        #    p = p * 2\n",
    "  \n",
    "    return X, S, y, L_history\n",
    "\n",
    "# returns SCALAR, rename, explain each line, \n",
    "# explain each line down in latex \n",
    "def for_species(p,X,S,j):   \n",
    "    sum=0\n",
    "    for i in range(num_species):\n",
    "        w=a[i,j]\n",
    "        q = np.array([roi[h](X[h]) for h in range(num_watersheds_total)])\n",
    "        z=np.dot(a[i,:],q)\n",
    "        v=w*(b[i]+S[i]-z + roi[j](X[j])*a[i,j] )\n",
    "        sum=sum+v\n",
    "    #sum=p*roi[j](X[j])*sum\n",
    "    return sum"
   ]
  },
  {
   "cell_type": "markdown",
   "metadata": {},
   "source": [
    "$g(\\lambda^*,\\nu^*) = d^* = p^*$."
   ]
  },
  {
   "cell_type": "markdown",
   "metadata": {},
   "source": [
    "Check for shape of matrices. A[:][1] and A[:,1] are different"
   ]
  },
  {
   "cell_type": "code",
   "execution_count": 19,
   "metadata": {},
   "outputs": [
    {
     "name": "stdout",
     "output_type": "stream",
     "text": [
      "[[ 0  1  2  3]\n",
      " [ 4  5  6  7]\n",
      " [ 8  9 10 11]]\n",
      "[4 5 6 7]\n",
      "6\n"
     ]
    }
   ],
   "source": [
    "A = np.arange(12).reshape((3,4))\n",
    "\n",
    "B=np.array([100,101,102])\n",
    "print(A)\n",
    "print(A[1][:])\n",
    "print(A[1,2])\n"
   ]
  },
  {
   "cell_type": "markdown",
   "metadata": {},
   "source": [
    "## Toy problem\n",
    "* Read watershed's ROI data from a file\n",
    "* Pre-process the ROI curves to make them concave\n",
    "* Set up a toy problem with 3 watersheds & 3 species\n",
    "* Use gradient ascent to find dual variables\n",
    "* Use dual variables to find X that minimizes the Lagrangian function\n",
    "* Verify that X satisfies the habitat target constraints"
   ]
  },
  {
   "cell_type": "code",
   "execution_count": 20,
   "metadata": {},
   "outputs": [
    {
     "name": "stdout",
     "output_type": "stream",
     "text": [
      "watershed data 0\n",
      "coeffs: [ 0.00840583 -0.11299362  0.42035572  0.44853454]\n",
      "watershed data 1\n",
      "coeffs: [-0.00407338  0.13810581 -0.56246479  0.3696556 ]\n",
      "watershed data 2\n",
      "coeffs: [-0.01394591  0.36765222 -1.72139265  1.18553684]\n"
     ]
    },
    {
     "data": {
      "text/plain": [
       "<matplotlib.legend.Legend at 0x10b8da550>"
      ]
     },
     "execution_count": 20,
     "metadata": {},
     "output_type": "execute_result"
    },
    {
     "data": {
      "image/png": "[encoded data removed]",
      "text/plain": [
       "<Figure size 432x288 with 1 Axes>"
      ]
     },
     "metadata": {
      "needs_background": "light"
     },
     "output_type": "display_data"
    },
    {
     "data": {
      "image/png": "[encoded data removed]",
      "text/plain": [
       "<Figure size 432x288 with 1 Axes>"
      ]
     },
     "metadata": {
      "needs_background": "light"
     },
     "output_type": "display_data"
    }
   ],
   "source": [
    "'''\n",
    "Loads the data from file\n",
    "'''\n",
    "\n",
    "\n",
    "data = pd.read_csv('watershed_data.csv', sep=',',header=None).values\n",
    "# % Data columns\n",
    "# %\n",
    "# % 0 - tree root, which represents a watershed number\n",
    "# % 1 - budget given to the RDP algorithm (range from 0 to 20000, step = 500) \n",
    "# % 2 - budget used by RDP\n",
    "# % 3 - policy(habitat) value of the solution given by RDP\n",
    "\n",
    "scale = 1e6\n",
    "data[:,3] = data[:,3]/scale\n",
    "\n",
    "# get unique watershed id's without sorting\n",
    "helper_indexes = np.unique(data[:,0], return_index=True)[1]\n",
    "wts_id = np.array([data[:,0][index] for index in sorted(helper_indexes)])\n",
    "num_watersheds = len(wts_id)\n",
    "num_watersheds_total = 50 #total number of watersheds including made-up roi curves \n",
    "\n",
    "roi = np.empty(num_watersheds_total, dtype=object)\n",
    "roi_prime = np.empty(num_watersheds_total, dtype=object)\n",
    "concave_roi = np.empty(num_watersheds, dtype=object)\n",
    "\n",
    "\n",
    "coeffs = np.empty(shape=(3,4)) # hold polynomial fit coefficients of the 3 roi curves\n",
    "\n",
    "x = np.linspace(0, 19500, 100)\n",
    "# TODO: store vertices as array of sequences than overriding \n",
    "\n",
    "# roi[j] - function that takes in money invested in watershed j and returns expected total habitat\n",
    "for j in range(num_watersheds):\n",
    "    # get the ROI curve for each watershed\n",
    "    wts_data = data[np.where(data[:, 0] == wts_id[j])]\n",
    "    x_axis=np.array(wts_data[:, 2])\n",
    "    x_axis[0] = 1.5\n",
    "    \n",
    "    log_x_axis = np.log(x_axis)\n",
    "    y_axis=np.array(wts_data[:, 3])\n",
    "    print(\"watershed data\", j)\n",
    "    \n",
    "    p = np.poly1d(np.polyfit(log_x_axis, y_axis, 3))\n",
    "    \n",
    "    \n",
    "    coeffs[j] = p.c # get coefficients of the polynomial fit p\n",
    "    print('coeffs:', coeffs[j])\n",
    "    #print(np.polyfit(x_axis,y_axis, 3))\n",
    "    #one, two, three, four, five=np.polyfit(np.square(x_axis), x_axis ,y_axis, 4)\n",
    "    #abline_values = [one*i**4 +two*i**3+three*i**2+four*i+five for i in x_axis]\n",
    "    #plt.plot(x_axis, abline_values, 'b')\n",
    "    # roi[j] = interpolate.interp1d(wts_data[:, 2], wts_data[:, 3], fill_value='extrapolate')\n",
    "    roi[j] = interpolate.interp1d(wts_data[:, 2], wts_data[:, 3])\n",
    "    plt.plot(x, roi[j](x), label=\"ROI %d\" % j)\n",
    "\n",
    "    # compute the convex hull of the ROI curve and to get a convex upper bound\n",
    "    hull = ConvexHull(wts_data[:, 2:])\n",
    "    vertices = np.array(np.append(hull.vertices[1:], [0]))\n",
    "    roi[j] = interpolate.interp1d(wts_data[vertices, 2], wts_data[vertices, 3], fill_value='extrapolate')\n",
    "    roi_prime[j] = lambda x: derivative(roi[j], x, dx=1e-6)\n",
    "    plt.plot(wts_data[vertices, 2], wts_data[vertices, 3], 'k--', lw=2) \n",
    "\n",
    "    \n",
    "for j in range(num_watersheds,num_watersheds_total):\n",
    "    roi_prime[j] = lambda x: derivative(roi[j], x, dx=1e-6)\n",
    "    \n",
    "    \n",
    "plt.legend()\n",
    "\n",
    "\n",
    "\n",
    "####################################################################\n",
    "####################################################################\n",
    "####################################################################\n",
    "\n",
    "'''\n",
    "Make up roi curves\n",
    "'''\n",
    "np.random.seed(2032)\n",
    "\n",
    "testval_origin = False # check if new roi curve value at origin, i.e. log(1.1), is >= 0\n",
    "test_increasing = False # check if new roi curve is an increasing function\n",
    "test_not_toobig = roi[2](20000) + 100 # check if new roi curve value at 20000 is less than max roi[j](20000)+5\n",
    "                              # to ensure that made-up roi curve is not too big compared to real roi of the 3 wts\n",
    "new_roi_index = 0\n",
    "#num_watersheds_total = 5\n",
    "\n",
    "xvals = np.arange(0,20000,20)\n",
    "xvals[0] = 1.5\n",
    "\n",
    "log_xvals = np.log(xvals)\n",
    "log_xvals[0] = np.log(0.2)\n",
    "length_log_xvals = len(log_xvals)\n",
    "\n",
    "\n",
    "for new_roi_index in range (num_watersheds,num_watersheds_total):\n",
    "    while not (testval_origin == True and test_increasing == True and test_not_toobig < roi[2](20000) + 5):\n",
    "        new_roi=np.array([np.random.uniform(np.amin(coeffs[:,0]), np.amax(coeffs[:,0])),\n",
    "          np.random.uniform(np.amin(coeffs[:,1]), np.amax(coeffs[:,1])), \n",
    "          np.random.uniform(np.amin(coeffs[:,2]), np.amax(coeffs[:,2])), \n",
    "          np.random.uniform(np.amin(coeffs[:,3]), np.amax(coeffs[:,3]))])\n",
    "\n",
    "        \n",
    "   \n",
    "        # check if new roi curve value at 20000 is less than max roi[j](20000)+5 \n",
    "        # to ensure that made-up roi curve is not too big\n",
    "        test_not_toobig = new_roi[0]*np.log(20000)**3 + new_roi[1]*np.log(20000)**2 + new_roi[2]*np.log(20000) + new_roi[3]\n",
    "\n",
    "        # check if new roi curve value at origin, i.e. log(1.1), is >= 0\n",
    "        testval_origin = True\n",
    "\n",
    "        \n",
    "        if (new_roi[0]*np.log(0.5)**3 + new_roi[1]*np.log(0.5)**2 + new_roi[2]*np.log(0.5) + new_roi[3] < 0):\n",
    "            testval_origin = False\n",
    "            break\n",
    "        \n",
    "\n",
    "        # ensure that first derivative at all values is > 0\n",
    "        test_increasing = True\n",
    "\n",
    "        for idx in range (0,length_log_xvals-1):\n",
    "            val = log_xvals[idx]\n",
    "            #if (3*new_roi[0]*val**2 + 2*new_roi[1]*val + new_roi[2] <= 0):\n",
    "            if (3*1/np.exp(val)*new_roi[0]*val**2 + 2*1/np.exp(val)*new_roi[1]*val + 1/np.exp(val)*new_roi[2] <= 0.):\n",
    "                test_increasing = False\n",
    "                break \n",
    "    \n",
    "    #print('testval_origin T/F: ', testval_origin)\n",
    "    #print('test_increasing T/F: ', test_increasing)\n",
    "    \n",
    "    #print('\\nnew_roi_index', new_roi_index)\n",
    "    #print('\\nnew roi:', new_roi, '\\n')\n",
    "\n",
    "    newyvals = new_roi[0]*log_xvals**3 + new_roi[1]*log_xvals**2 + new_roi[2]*log_xvals + new_roi[3]\n",
    "    \n",
    "    #save made up roi curve\n",
    "    roi[new_roi_index] = lambda x: new_roi[0]*np.log(x+0.001)**3 + new_roi[1]*np.log(x+0.001)**2 + new_roi[2]*np.log(x+0.001) + new_roi[3]\n",
    "    \n",
    "    \n",
    "    # plot the most recent made up ROI curves\n",
    "    plt.plot(xvals,newyvals,label=\"new ROI %d\" % new_roi_index) \n",
    "    plt.ylim(-10,20)\n",
    "    plt.legend()\n",
    "    \n",
    "    testval_origin == False\n",
    "    test_increasing == False\n",
    "    test_not_toobig = roi[2](20000) + 100\n",
    "\n",
    "\n",
    "\n",
    "# plot roi_prime in a new figure\n",
    "plt.figure()\n",
    "for j in range(num_watersheds):\n",
    "    plt.plot(x, roi_prime[j](x), label=\"ROI prime %d\" % j)\n",
    "plt.legend()"
   ]
  },
  {
   "cell_type": "markdown",
   "metadata": {},
   "source": [
    "## Experiment with Inverse Function"
   ]
  },
  {
   "cell_type": "code",
   "execution_count": 21,
   "metadata": {},
   "outputs": [
    {
     "data": {
      "text/plain": [
       "(0, 20000)"
      ]
     },
     "execution_count": 21,
     "metadata": {},
     "output_type": "execute_result"
    },
    {
     "data": {
      "image/png": "[encoded data removed]",
      "text/plain": [
       "<Figure size 432x288 with 1 Axes>"
      ]
     },
     "metadata": {
      "needs_background": "light"
     },
     "output_type": "display_data"
    }
   ],
   "source": [
    "'''\n",
    "Loads the data from file\n",
    "'''\n",
    "data = pd.read_csv('watershed_data.csv', sep=',',header=None).values\n",
    "# % Data columns\n",
    "# %\n",
    "# % 0 - tree root, which represents a watershed number\n",
    "# % 1 - budget given to the RDP algorithm (range from 0 to 20000, step = 500) \n",
    "# % 2 - budget used by RDP\n",
    "# % 3 - policy value of the solution given by RDP\n",
    "\n",
    "scale = 1e6\n",
    "data[:,3] = data[:,3]/scale\n",
    "\n",
    "wts_id = np.array([41587, 65629, 10987])\n",
    "num_watersheds = len(wts_id)\n",
    "\n",
    "roi_inverse = np.empty(num_watersheds, dtype=object)\n",
    "concave_roi_inverse = np.empty(num_watersheds, dtype=object)\n",
    "\n",
    "x = np.linspace(0, 7, 100)\n",
    "\n",
    "# roi[j] - function that takes in money invested in watershed j and returns expected total habitat\n",
    "for j in range(num_watersheds):\n",
    "    # get the ROI curve for each watershed\n",
    "    wts_data = data[np.where(data[:, 0] == wts_id[j])]\n",
    "    roi_inverse[j] = interpolate.interp1d(wts_data[:, 3], wts_data[:, 2], fill_value='extrapolate')\n",
    "    plt.plot(x, roi_inverse[j](x), label=\"ROI %d\" % j)\n",
    "\n",
    "    # compute the convex hull of the ROI curve and to get a convex upper bound\n",
    "    hull = ConvexHull(wts_data[:, 2:])\n",
    "    vertices_inverse = np.append(hull.vertices[1:], [0])\n",
    "    roi_inverse[j] = interpolate.interp1d(wts_data[vertices_inverse, 3], wts_data[vertices_inverse, 2], fill_value='extrapolate')\n",
    "    plt.plot(wts_data[vertices_inverse, 3], wts_data[vertices_inverse, 2], 'k--', lw=2) \n",
    "\n",
    "plt.legend()\n",
    "plt.ylim([0, 20000])  ### NOTE: think about proper way to handle extrapolation"
   ]
  },
  {
   "cell_type": "code",
   "execution_count": 22,
   "metadata": {},
   "outputs": [
    {
     "name": "stdout",
     "output_type": "stream",
     "text": [
      "[40 39 38 36 32 25 19 18 10  9  8  7  4  3  2  1  0]\n"
     ]
    }
   ],
   "source": [
    "print(vertices) # actual vertices used to computer roi[2] "
   ]
  },
  {
   "cell_type": "code",
   "execution_count": 23,
   "metadata": {},
   "outputs": [
    {
     "name": "stdout",
     "output_type": "stream",
     "text": [
      "length b:  50\n",
      "b is:  [ 1.5  3.5  3.   5.  24.  41.  26.   6.  31.   3.  27.  26.  11.  20.\n",
      " 44.  42.  19.  12.   5.   6.  20.  37.  21.  38.   2.  26.   4.  42.\n",
      " 43.  39.  33.  31.  37.  21.   6.  27.  43.  36.  24.  17.  42.  35.\n",
      "  1.  28.  13.  16.  20.   8.  34.   5. ] \n",
      "\n",
      "a is: \n",
      " [[0 0 0 ... 0 1 0]\n",
      " [1 1 0 ... 1 1 1]\n",
      " [0 1 0 ... 1 0 0]\n",
      " ...\n",
      " [0 1 0 ... 1 1 1]\n",
      " [1 1 1 ... 0 1 0]\n",
      " [1 1 0 ... 0 1 1]] \n",
      "\n"
     ]
    }
   ],
   "source": [
    "'''\n",
    "Toy problem with 3 watersheds and 3 species\n",
    "'''\n",
    "\n",
    "np.random.seed(6873480)\n",
    "\n",
    "num_species = 50\n",
    "num_watersheds = 3\n",
    "\n",
    "# b[i] - habitat target for species i, b[i] >= 0\n",
    "\n",
    "# The 3 lines of code below work, but need to find a way to fix a, where to set seed?\n",
    "\n",
    "b = np.array([1.5e+06, 3.5e+06, 3e+06])/scale\n",
    "b2 = np.random.randint(1,int(num_species*9/10), num_species - num_watersheds)\n",
    "b = np.concatenate((b,b2), axis = None)\n",
    "\n",
    "\n",
    "# for now, let use this b:\n",
    "#b = np.array([1.5, 3.5, 3.,  5.,  6. , 5.5, 4.5, 6.5, 4, 8])\n",
    "\n",
    "print('length b: ', len(b))\n",
    "print('b is: ', b, '\\n')\n",
    "\n",
    "# a[i][j] = 1 if species i is available in watershed j, 0 otherwise\n",
    "\n",
    "\n",
    "# this line below works, but need to find a way to fix a, where to set seed?\n",
    "a = np.random.randint(2,size=(num_species, num_watersheds_total)) \n",
    "\n",
    "\n",
    "# for now let use this matrix a\n",
    "'''\n",
    "a = np.array([[0, 0, 1, 0, 0, 0, 0, 0, 0, 0], \n",
    "              [1, 1, 0, 0, 0, 0, 0, 0, 0, 0],\n",
    "              [0, 0, 1, 0, 0, 0, 0, 0, 0, 0],\n",
    "              [1, 0, 0, 1, 1, 1, 0, 0, 1, 0],\n",
    "              [1, 1, 0, 1, 0, 0, 0, 1, 1, 0],\n",
    "              [1, 0, 0, 1, 0, 0, 0, 1, 0, 1], \n",
    "              [0, 1, 1, 1, 1, 1, 1, 0, 1, 1],\n",
    "              [0, 0, 1, 0, 1, 0, 1, 0, 1, 0],\n",
    "              [0, 0, 0, 0, 1, 1, 0, 0, 1, 0],\n",
    "              [1, 1, 0, 0, 0, 0, 0, 1, 1, 1]])\n",
    "'''\n",
    "              \n",
    "print('a is: \\n', a, '\\n')"
   ]
  },
  {
   "cell_type": "code",
   "execution_count": 25,
   "metadata": {
    "scrolled": false
   },
   "outputs": [
    {
     "name": "stdout",
     "output_type": "stream",
     "text": [
      "round =  1  takes 32.24346685409546  seconds \n",
      "\n",
      "round =  2  takes 38.394365310668945  seconds \n",
      "\n",
      "round =  3  takes 41.590842962265015  seconds \n",
      "\n",
      "round =  4  takes 49.81528997421265  seconds \n",
      "\n",
      "round =  5  takes 55.1937198638916  seconds \n",
      "\n",
      "round =  6  takes 51.483421087265015  seconds \n",
      "\n",
      "round =  7  takes 61.61095905303955  seconds \n",
      "\n",
      "round =  8  takes 69.69860219955444  seconds \n",
      "\n",
      "round =  9  takes 64.39959287643433  seconds \n",
      "\n",
      "round =  10  takes 69.00312089920044  seconds \n",
      "\n",
      "round =  50  takes 24980.47797870636  seconds \n",
      "\n",
      "linh tinh\n",
      "y is\n",
      "[-8.23802055e-04  1.70880025e-02 -2.93332524e-03  3.85326587e-05\n",
      "  4.01115340e-04 -7.39441997e-04  2.19335429e-04 -6.13656892e-04\n",
      "  1.18533509e-04  1.38790726e-02  2.17545313e-04 -7.30146055e-04\n",
      " -2.84612228e-03 -3.83721428e-04 -8.04851254e-07  2.46409716e+01\n",
      " -2.54363481e-04 -4.76905407e-03  4.24720128e-05 -7.86427076e-03\n",
      " -2.49827851e-03 -2.35148461e-05  7.04196000e-04  5.63153719e-02\n",
      "  1.45543389e-03 -4.32488368e-05 -2.86616403e-03 -2.07789979e-06\n",
      "  6.76776183e+01 -1.34908963e-06  8.92037861e-05  2.22804092e-04\n",
      "  1.34530289e+01 -2.46863578e-05 -4.41326804e-03 -4.18509572e-05\n",
      "  1.96389273e+02  2.16840439e-06 -2.74835970e-03 -7.36603150e-04\n",
      "  1.09756799e+02  6.43973324e-05 -1.85502488e-04  4.98472302e-04\n",
      "  2.85525849e-04  3.65641180e-03  3.44908678e-05 -4.86311690e-04\n",
      " -9.52687971e-05 -1.47084614e-03]\n",
      "L_history is: \n",
      "\n",
      "Convergence\n",
      "Iterations to optimal:  1516\n",
      "Money invested in each watershed: [0.00000000e+00 0.00000000e+00 0.00000000e+00 1.52032855e+02\n",
      " 3.42535513e+01 2.48416804e+02 9.70324971e+01 1.30433557e+02\n",
      " 5.48972190e-03 8.70713071e+01 6.85330003e+01 4.30767033e+01\n",
      " 1.88234424e+02 3.10797981e+01 1.54603086e+02 1.00084571e-01\n",
      " 1.43765828e-01 9.20301199e+01 1.14758219e+02 1.87930487e+01\n",
      " 1.06408475e+02 1.88742752e+01 8.28927053e+01 5.38471004e+01\n",
      " 2.17936040e+02 1.97154652e+01 2.03838954e+02 1.67151870e+02\n",
      " 3.43943687e+00 9.13377828e+01 4.02383460e+00 2.88649827e+01\n",
      " 6.15131211e+01 3.72273964e+01 1.42634117e+02 9.18057246e+01\n",
      " 1.01540404e+02 9.15090928e+01 2.11774879e+02 5.12344653e+01\n",
      " 3.39900148e-01 3.40027314e+01 1.98834314e+02 6.33894708e-01\n",
      " 2.13001467e+02 7.76887238e+01 2.23248996e+01 6.74701043e+00\n",
      " 1.80312910e+02 1.07802543e+02]\n",
      "Sum of money invested: 4089.8568247029934\n",
      "Habitat in each watershed: [ 0.6016      0.166781    0.54435     2.3072437   1.61417066  2.61140414\n",
      "  2.06494625  2.22090866 -1.80792008  2.011202    1.89844827  1.7016586\n",
      "  2.43425379  1.57881125  2.31692792 -0.02467715  0.1194479   2.03846566\n",
      "  2.15171381  1.41088231  2.11210857  1.41222367  1.98737174  1.79280811\n",
      "  2.5260496   1.42587409  2.48367008  2.36264202  0.97180087  2.03472192\n",
      "  1.00745089  1.5525923   1.8501602   1.64526372  2.27081451  2.03725443\n",
      "  2.0880023   2.03565011  2.50777508  1.77196112  0.40781769  1.61146249\n",
      "  2.46812351  0.57977971  2.51144314  1.95648939  1.46570075  1.12955025\n",
      "  2.40804736  2.11886908]\n",
      "\n",
      "--- 257496.21565794945 seconds ---\n"
     ]
    },
    {
     "name": "stderr",
     "output_type": "stream",
     "text": [
      "/Library/Frameworks/Python.framework/Versions/3.6/lib/python3.6/site-packages/ipykernel_launcher.py:34: RuntimeWarning: invalid value encountered in double_scalars\n"
     ]
    },
    {
     "data": {
      "image/png": "[encoded data removed]",
      "text/plain": [
       "<Figure size 432x288 with 1 Axes>"
      ]
     },
     "metadata": {
      "needs_background": "light"
     },
     "output_type": "display_data"
    },
    {
     "data": {
      "image/png": "[encoded data removed]",
      "text/plain": [
       "<Figure size 432x288 with 1 Axes>"
      ]
     },
     "metadata": {
      "needs_background": "light"
     },
     "output_type": "display_data"
    }
   ],
   "source": [
    "'''\n",
    "Solve Toy problem using ADMM\n",
    "'''\n",
    "start_time = time.time()\n",
    "\n",
    "iters = 8000\n",
    "x_max = 20000\n",
    "\n",
    "\n",
    "X = np.zeros(num_watersheds_total)\n",
    "S = np.zeros(num_species)\n",
    "y = np.zeros(num_species)\n",
    "p = 400 # how to set p?\n",
    "X, S, y, L_history = dual_update(X,S,y,p,iters,x_max)\n",
    "print(\"y is\")\n",
    "print(y)\n",
    "\n",
    "\n",
    "# Check convergence of the Lagrangian\n",
    "# TODO: tolerance = 0.01% of avtual value\n",
    "# how long takes to converge, neighbor 2 smaller than tolerance,slope between 2 points close to 0\n",
    "print(\"L_history is: \\n\")\n",
    "#print(L_history)\n",
    "plt.figure()\n",
    "plt.plot(L_history, label='Lagrangian')\n",
    "plt.legend()\n",
    "\n",
    "print(\"Convergence\") # slope between 2 points close to 0 with 0.01 tolerance \n",
    "plt.figure()\n",
    "\n",
    "\n",
    "first_deriv = np.zeros(iters)\n",
    "for i in range (0,iters-1):\n",
    "    first_deriv[i]=(L_history[i+1]-L_history[i])/(L_history[i])\n",
    "# second_deriv = np.zeros(iters)\n",
    "# for i in range (0,iters-1):\n",
    "#     second_deriv[i]=(first_deriv[i+1]-first_deriv[i])/(first_deriv[i])\n",
    "iters_to_optimal = -1                                                    \n",
    "for i in range (0,iters-1):\n",
    "    if((first_deriv[i]<=1e-5) & (first_deriv[i]>=-1e-5)):\n",
    "        iters_to_optimal=i\n",
    "        break\n",
    "plt.plot(first_deriv, label='Convergence')\n",
    "if(iters_to_optimal==-1):\n",
    "    print(\"Not enough iteration to get optimal solution\")\n",
    "else:\n",
    "    print(\"Iterations to optimal: \", iters_to_optimal)\n",
    "plt.legend()\n",
    "\n",
    "\n",
    "print (\"Money invested in each watershed:\", X)\n",
    "print (\"Sum of money invested:\", np.sum(X))\n",
    "\n",
    "total_habitat = np.array([roi[j](X[j]) for j in range(num_watersheds_total)])\n",
    "print (\"Habitat in each watershed:\", total_habitat)\n",
    "\n",
    "\n",
    "# get execution time for ADMM ...\n",
    "print(\"\\n--- %s seconds ---\" % (time.time() - start_time))"
   ]
  },
  {
   "cell_type": "code",
   "execution_count": null,
   "metadata": {},
   "outputs": [],
   "source": []
  },
  {
   "cell_type": "code",
   "execution_count": 12,
   "metadata": {},
   "outputs": [
    {
     "data": {
      "image/png": "[encoded data removed]",
      "text/plain": [
       "<Figure size 432x288 with 1 Axes>"
      ]
     },
     "metadata": {
      "needs_background": "light"
     },
     "output_type": "display_data"
    }
   ],
   "source": [
    "# Plot the 3 ROI curves\n",
    "plt.figure() \n",
    "x = np.linspace(0, x_max, 100) \n",
    "for j in range(num_watersheds_total):\n",
    "    plt.plot(x, roi[j](x), label=\"ROI %d\" % j)\n",
    "    plt.plot(X[j], roi[j](X[j]), 'yo') # point of actual money invest on this watershed\n",
    "#plt.legend()"
   ]
  },
  {
   "cell_type": "markdown",
   "metadata": {},
   "source": [
    "## Verify if solution is optimal with KKT conditions\n",
    "No need to check dual feasibility because the code guarantees \n",
    "that dual variables lambda are always >= 0"
   ]
  },
  {
   "cell_type": "code",
   "execution_count": 26,
   "metadata": {
    "scrolled": false
   },
   "outputs": [
    {
     "name": "stdout",
     "output_type": "stream",
     "text": [
      "\n",
      "Checking primal feasibility:\n",
      "Total habitat vs. target habitat for species 0 :  48.68958877992211  |  1.5\n",
      "Total habitat vs. target habitat for species 1 :  47.83667017051242  |  3.5\n",
      "Total habitat vs. target habitat for species 2 :  31.60154159520319  |  3.0\n",
      "Total habitat vs. target habitat for species 3 :  35.752558351684144  |  5.0\n",
      "Total habitat vs. target habitat for species 4 :  35.36779843114017  |  24.0\n",
      "Total habitat vs. target habitat for species 5 :  56.50115262801091  |  41.0\n",
      "Total habitat vs. target habitat for species 6 :  32.56457331121008  |  26.0\n",
      "Total habitat vs. target habitat for species 7 :  28.774252134844186  |  6.0\n",
      "Total habitat vs. target habitat for species 8 :  42.11571076119909  |  31.0\n",
      "Total habitat vs. target habitat for species 9 :  49.909626127113185  |  3.0\n",
      "Total habitat vs. target habitat for species 10 :  34.68675483160094  |  27.0\n",
      "Total habitat vs. target habitat for species 11 :  41.45186890409104  |  26.0\n",
      "Total habitat vs. target habitat for species 12 :  32.871892703219274  |  11.0\n",
      "Total habitat vs. target habitat for species 13 :  42.56382151904617  |  20.0\n",
      "Total habitat vs. target habitat for species 14 :  44.42700779549098  |  44.0\n",
      "Total habitat vs. target habitat for species 15 :  42.00024354068  |  42.0\n",
      "Total habitat vs. target habitat for species 16 :  46.253376469986804  |  19.0\n",
      "Total habitat vs. target habitat for species 17 :  39.26611606073231  |  12.0\n",
      "Total habitat vs. target habitat for species 18 :  34.084413061349835  |  5.0\n",
      "Total habitat vs. target habitat for species 19 :  48.673749192369606  |  6.0\n",
      "Total habitat vs. target habitat for species 20 :  44.683249598133024  |  20.0\n",
      "Total habitat vs. target habitat for species 21 :  39.883310880104546  |  37.0\n",
      "Total habitat vs. target habitat for species 22 :  33.06799090427184  |  21.0\n",
      "Total habitat vs. target habitat for species 23 :  38.00002987382917  |  38.0\n",
      "Total habitat vs. target habitat for species 24 :  40.162438078920886  |  2.0\n",
      "Total habitat vs. target habitat for species 25 :  33.87226429086885  |  26.0\n",
      "Total habitat vs. target habitat for species 26 :  49.33542180661094  |  4.0\n",
      "Total habitat vs. target habitat for species 27 :  42.22083580477202  |  42.0\n",
      "Total habitat vs. target habitat for species 28 :  42.99985927095602  |  43.0\n",
      "Total habitat vs. target habitat for species 29 :  44.686051829841695  |  39.0\n",
      "Total habitat vs. target habitat for species 30 :  40.69072334681195  |  33.0\n",
      "Total habitat vs. target habitat for species 31 :  42.164859786872995  |  31.0\n",
      "Total habitat vs. target habitat for species 32 :  37.00038116013246  |  37.0\n",
      "Total habitat vs. target habitat for species 33 :  42.91366381982496  |  21.0\n",
      "Total habitat vs. target habitat for species 34 :  40.81012360067276  |  6.0\n",
      "Total habitat vs. target habitat for species 35 :  44.7829673271287  |  27.0\n",
      "Total habitat vs. target habitat for species 36 :  42.99998273738689  |  43.0\n",
      "Total habitat vs. target habitat for species 37 :  38.20711469447461  |  36.0\n",
      "Total habitat vs. target habitat for species 38 :  51.11874929069738  |  24.0\n",
      "Total habitat vs. target habitat for species 39 :  43.79316844701843  |  17.0\n",
      "Total habitat vs. target habitat for species 40 :  41.9999513901394  |  42.0\n",
      "Total habitat vs. target habitat for species 41 :  39.33459414371325  |  35.0\n",
      "Total habitat vs. target habitat for species 42 :  48.101996717184065  |  1.0\n",
      "Total habitat vs. target habitat for species 43 :  39.76895332801458  |  28.0\n",
      "Total habitat vs. target habitat for species 44 :  37.979346973357835  |  13.0\n",
      "Total habitat vs. target habitat for species 45 :  47.80397713389213  |  16.0\n",
      "Total habitat vs. target habitat for species 46 :  24.58570719889308  |  20.0\n",
      "Total habitat vs. target habitat for species 47 :  37.39638618955061  |  8.0\n",
      "Total habitat vs. target habitat for species 48 :  51.316229623351724  |  34.0\n",
      "Total habitat vs. target habitat for species 49 :  35.754825847162564  |  5.0\n",
      "\n",
      "Checking complementary slackness: y*(b-Af)\n",
      "[ 3.88748802e-02 -7.57625133e-01  8.38976240e-02 -1.18497783e-03\n",
      " -4.55979833e-03  1.14622033e-02 -1.43984350e-03  1.39755768e-02\n",
      " -1.31758420e-03 -6.51062107e-01 -1.67221749e-03  1.12821211e-02\n",
      "  6.22500812e-02  8.65822180e-03  3.43677760e-07 -6.00107897e-03\n",
      "  6.93226372e-03  1.30033582e-01 -1.23527356e-03  3.35597918e-01\n",
      "  6.16656320e-02  6.78006115e-05 -8.49823093e-03 -1.68235580e-06\n",
      " -5.55429057e-02  3.40466274e-04  1.29938755e-01  4.58874672e-07\n",
      "  9.52420653e-03  7.67099356e-06 -6.86041640e-04 -2.48757645e-03\n",
      " -5.12775828e-03  5.40968546e-04  1.53626406e-01  7.44234204e-04\n",
      "  3.39019203e-03 -4.78591719e-06  7.45320778e-02  1.97359323e-02\n",
      "  5.33526269e-03 -2.79136300e-04  8.73753757e-03 -5.86649726e-03\n",
      " -7.13224924e-03 -1.16288437e-01 -1.58165021e-04  1.42958062e-02\n",
      "  1.64969637e-03  4.52356167e-02] \n",
      "\n",
      "y =  [-8.23802055e-04  1.70880025e-02 -2.93332524e-03  3.85326587e-05\n",
      "  4.01115340e-04 -7.39441997e-04  2.19335429e-04 -6.13656892e-04\n",
      "  1.18533509e-04  1.38790726e-02  2.17545313e-04 -7.30146055e-04\n",
      " -2.84612228e-03 -3.83721428e-04 -8.04851254e-07  2.46409716e+01\n",
      " -2.54363481e-04 -4.76905407e-03  4.24720128e-05 -7.86427076e-03\n",
      " -2.49827851e-03 -2.35148461e-05  7.04196000e-04  5.63153719e-02\n",
      "  1.45543389e-03 -4.32488368e-05 -2.86616403e-03 -2.07789979e-06\n",
      "  6.76776183e+01 -1.34908963e-06  8.92037861e-05  2.22804092e-04\n",
      "  1.34530289e+01 -2.46863578e-05 -4.41326804e-03 -4.18509572e-05\n",
      "  1.96389273e+02  2.16840439e-06 -2.74835970e-03 -7.36603150e-04\n",
      "  1.09756799e+02  6.43973324e-05 -1.85502488e-04  4.98472302e-04\n",
      "  2.85525849e-04  3.65641180e-03  3.44908678e-05 -4.86311690e-04\n",
      " -9.52687971e-05 -1.47084614e-03]\n",
      "S =  [47.18958838 44.33669917 28.60152885 30.75255526 11.36779934 15.50115349\n",
      "  6.56457368 22.77425193 11.11571159 46.90965365  7.68675519 15.45186867\n",
      " 21.87188558 22.56382346  0.4270078   0.         27.25337764 27.26609507\n",
      " 29.08442253 42.67371843 24.68323731  2.8833107  12.06799337  0.\n",
      " 38.16245036  7.872264   45.33542874  0.2208358   0.          5.68605191\n",
      "  7.69072352 11.16486058  0.         21.91366248 34.81009607 17.78297007\n",
      "  0.          2.20711469 27.1187433  26.79316181  0.          4.33459436\n",
      " 47.10200246 11.7689554  24.97935159 31.80399826  4.58570732 29.39638753\n",
      " 17.31623106 30.75482462]\n",
      "X =  [0.00000000e+00 0.00000000e+00 0.00000000e+00 1.52032855e+02\n",
      " 3.42535513e+01 2.48416804e+02 9.70324971e+01 1.30433557e+02\n",
      " 5.48972190e-03 8.70713071e+01 6.85330003e+01 4.30767033e+01\n",
      " 1.88234424e+02 3.10797981e+01 1.54603086e+02 1.00084571e-01\n",
      " 1.43765828e-01 9.20301199e+01 1.14758219e+02 1.87930487e+01\n",
      " 1.06408475e+02 1.88742752e+01 8.28927053e+01 5.38471004e+01\n",
      " 2.17936040e+02 1.97154652e+01 2.03838954e+02 1.67151870e+02\n",
      " 3.43943687e+00 9.13377828e+01 4.02383460e+00 2.88649827e+01\n",
      " 6.15131211e+01 3.72273964e+01 1.42634117e+02 9.18057246e+01\n",
      " 1.01540404e+02 9.15090928e+01 2.11774879e+02 5.12344653e+01\n",
      " 3.39900148e-01 3.40027314e+01 1.98834314e+02 6.33894708e-01\n",
      " 2.13001467e+02 7.76887238e+01 2.23248996e+01 6.74701043e+00\n",
      " 1.80312910e+02 1.07802543e+02]\n",
      "\n",
      "b - Af + S =  [-3.95826973e-07  2.90021017e-05 -1.27479238e-05 -3.08832752e-06\n",
      "  9.08005193e-07  8.62575652e-07  3.64518953e-07 -2.04278940e-07\n",
      "  8.27773642e-07  2.75201370e-05  3.61690362e-07 -2.36387400e-07\n",
      " -7.11988718e-06  1.94253287e-06  4.49701482e-09 -2.43540680e-04\n",
      "  1.17366928e-06 -2.09862134e-05  9.46952918e-06 -3.07587218e-05\n",
      " -1.22879156e-05 -1.76076179e-07  2.46552573e-06 -2.98738292e-05\n",
      "  1.22772399e-05 -2.86751885e-07  6.93578503e-06 -5.90423044e-10\n",
      "  1.40729044e-04  7.67344792e-08  1.75792622e-07  7.95494667e-07\n",
      " -3.81160132e-04 -1.33760456e-06 -2.75312259e-05  2.73848465e-06\n",
      "  1.72626131e-05 -4.11823198e-09 -5.99023898e-06 -6.63457094e-06\n",
      "  4.86098606e-05  2.16191054e-07  5.74443450e-06  2.07628415e-06\n",
      "  4.61701591e-06  2.11284170e-05  1.16550694e-07  1.33974262e-06\n",
      "  1.43388043e-06 -1.22324692e-06]\n",
      "\n",
      "Checking primal variables are positive:\n",
      "Primal Variables x:  False\n",
      "slack variables:  False\n",
      "\n",
      "f'(x) * dot(a.T, y)\n",
      "[6.39317407e-01 3.90516357e-01 7.69948511e-01 5.10250137e-01\n",
      " 1.78511573e-01 7.22353274e-01 3.68990234e-01 4.53102758e-01\n",
      " 3.79633308e-05 3.43013877e-01 2.85835647e-01 2.04444387e-01\n",
      " 5.84014580e-01 1.56857211e-01 5.10273571e-01 1.22990424e-04\n",
      " 2.59812623e-02 3.68990560e-01 4.27141614e-01 1.30809930e-01\n",
      " 4.05635927e-01 1.30892719e-01 3.42876890e-01 2.59680321e-01\n",
      " 6.65236173e-01 1.30897337e-01 6.39199351e-01 5.57913525e-01\n",
      " 4.76432464e-02 3.68992713e-01 4.77287189e-02 1.78404018e-01\n",
      " 2.85738473e-01 2.12245222e-01 5.10375712e-01 3.79505267e-01\n",
      " 4.05638892e-01 3.79618803e-01 6.65189710e-01 2.59696130e-01\n",
      " 2.60135120e-02 2.04357182e-01 6.39207444e-01 2.59769872e-02\n",
      " 6.65338500e-01 3.42839119e-01 1.56785835e-01 7.37442191e-02\n",
      " 5.91690674e-01 4.16531503e-01]\n"
     ]
    }
   ],
   "source": [
    "print (\"\\nChecking primal feasibility:\")\n",
    "# Total habitat should be geq target habitat for all species i\n",
    "for i in range(num_species):\n",
    "    print (\"Total habitat vs. target habitat for species\", i, \": \", np.dot(a[i,:], total_habitat), \" | \", b[i]) \n",
    "\n",
    "print (\"\\nChecking complementary slackness: y*(b-Af)\")\n",
    "# The product should be zero for all species i\n",
    "print (y * (b - np.dot(a , total_habitat)), \"\\n\") \n",
    "print (\"y = \", y)\n",
    "\n",
    "print(\"S = \", S)\n",
    "\n",
    "print (\"X = \", X)\n",
    "\n",
    "f = np.array([roi[j](X[j]) for j in range(num_watersheds_total)])\n",
    "Af = np.dot(a, f)\n",
    "print (\"\\nb - Af + S = \", b - Af + S)\n",
    "\n",
    "# TODO: check if s and x are geq 0 \n",
    "print(\"\\nChecking primal variables are positive:\")\n",
    "print(\"Primal Variables x: \", (X>0).all()) # need to store history of X[j], currently overriding\n",
    "print(\"slack variables: \", (S>0).all())\n",
    "\n",
    "\n",
    "# TODO calculate f_prime \n",
    "# research on slack varibale in KKT, okay to drop s in kkt condition\n",
    "# kkt should satisfy original formulation \n",
    "\n",
    "f_prime = np.array([roi_prime[j](X[j]) for j in range(num_watersheds_total)])\n",
    "\n",
    "print(\"\\nf'(x) * dot(a.T, y)\")\n",
    "print(f_prime * np.dot(a.T, y))\n",
    "\n"
   ]
  },
  {
   "cell_type": "markdown",
   "metadata": {},
   "source": [
    "1. f prime, close to 1 but not 1\n",
    "2. does a related is roi specific? if we change a, complementary slackness is violated and f_prime a.t y is bad - we think it is related with ROI. cannot find Ngoc's code on her example in slides"
   ]
  },
  {
   "cell_type": "markdown",
   "metadata": {},
   "source": [
    "## Using scipy.optimize to solve the toy problem "
   ]
  },
  {
   "cell_type": "code",
   "execution_count": 9,
   "metadata": {},
   "outputs": [],
   "source": [
    "def objective(x): \n",
    "    return sum(x)\n",
    "\n",
    "# all constraints in our toy problem\n",
    "def constraint(x):\n",
    "    cnstrs = np.empty(num_species, dtype=object)\n",
    "    for i in range(num_species):\n",
    "        cnstrs[i] = np.dot(a[i,:].T,np.array([roi[j](x[j]) for j in range(num_watersheds_total)])) - b[i]\n",
    "    return cnstrs\n",
    "\n",
    "\n",
    "bnd = (0., math.inf) # constraints on x. Here, x_1,...,x_n >= 0.\n",
    "bnds = (bnd,) * num_watersheds_total # bnds = (bnd, bnd, ..., bnd)\n",
    "\n",
    "\n",
    "con = {'type': 'ineq', 'fun': constraint} # all constraints\n",
    "\n",
    "x0 = [0]*num_watersheds_total  # initial guess: x0 = [0, 0, ..., 0]"
   ]
  },
  {
   "cell_type": "code",
   "execution_count": 10,
   "metadata": {},
   "outputs": [
    {
     "name": "stdout",
     "output_type": "stream",
     "text": [
      "\n",
      "--- 643.100438117981 seconds ---\n"
     ]
    }
   ],
   "source": [
    "opt = {'maxiter':2000} # set max # of iterations \n",
    "\n",
    "start_time = time.time()\n",
    "sol = minimize(objective, x0, bounds = bnds, constraints = con, options = opt)\n",
    "\n",
    "print(\"\\n--- %s seconds ---\" % (time.time() - start_time))"
   ]
  },
  {
   "cell_type": "code",
   "execution_count": 12,
   "metadata": {},
   "outputs": [
    {
     "name": "stdout",
     "output_type": "stream",
     "text": [
      "     fun: 4082.265241129728\n",
      "     jac: array([1., 1., 1., 1., 1., 1., 1., 1., 1., 1., 1., 1., 1., 1., 1., 1., 1.,\n",
      "       1., 1., 1., 1., 1., 1., 1., 1., 1., 1., 1., 1., 1., 1., 1., 1., 1.,\n",
      "       1., 1., 1., 1., 1., 1., 1., 1., 1., 1., 1., 1., 1., 1., 1., 1.])\n",
      " message: 'Optimization terminated successfully.'\n",
      "    nfev: 21476\n",
      "     nit: 413\n",
      "    njev: 411\n",
      "  status: 0\n",
      " success: True\n",
      "       x: array([0.00000000e+00, 0.00000000e+00, 6.97277073e-15, 1.52058203e+02,\n",
      "       3.37427588e+01, 2.47480043e+02, 8.82432883e+01, 1.18124200e+02,\n",
      "       6.61420233e-15, 8.67092834e+01, 5.83960515e+01, 3.48854743e+01,\n",
      "       1.73393186e+02, 2.34132548e+01, 1.52035803e+02, 1.34610600e-01,\n",
      "       5.73407771e-01, 8.82386563e+01, 1.16459793e+02, 2.22525670e+01,\n",
      "       1.01109274e+02, 2.24092329e+01, 8.64564855e+01, 5.68264138e+01,\n",
      "       2.08527537e+02, 2.24091441e+01, 2.06584195e+02, 1.71265793e+02,\n",
      "       5.51559941e+00, 8.82283715e+01, 5.61348749e+00, 3.35602862e+01,\n",
      "       5.81633224e+01, 4.33303959e+01, 1.52312375e+02, 9.92572732e+01,\n",
      "       1.01097336e+02, 9.95171639e+01, 2.08556289e+02, 5.68208989e+01,\n",
      "       5.73440332e-01, 3.47028236e+01, 2.06602900e+02, 5.73439084e-01,\n",
      "       2.08846886e+02, 8.64659575e+01, 2.32496174e+01, 6.23603995e+00,\n",
      "       1.86636070e+02, 1.04676613e+02]) \n",
      "\n",
      "sum x =  4082.265241129728 \n",
      "\n",
      "[47.536601644464355 42.499883011237976 27.308911685955486\n",
      " 29.06964522192495 9.288740161285844 14.08792861076008 4.673387079945179\n",
      " 22.98825302526264 11.800338228111698 45.16026353750582 5.702089709986133\n",
      " 16.16076161232042 19.99031268636533 22.988438085039924 1.132481215486429\n",
      " -1.3823822087033477e-09 27.150688034342913 25.373214116053283\n",
      " 27.03954883519212 42.850664919457145 24.810783774388177\n",
      " 3.4706646669092436 10.440889337989798 -2.023348599777819e-09\n",
      " 38.949306375013016 6.011060973710173 45.68214323944102\n",
      " 0.40372449327122695 -1.8464305640009115e-09 3.8155464594766357\n",
      " 8.621713268214052 11.833578730973464 -1.2039862440360594e-09\n",
      " 19.826543759513847 35.14800023131082 15.70259426477677\n",
      " -4.008455789517029e-10 2.677778800888312 27.63032288832892\n",
      " 27.36768635755955 3.452882424426207e-10 2.445270999793891\n",
      " 45.38474199087475 10.50662072627177 25.710776865539835 31.995452581830087\n",
      " 2.9547649660859854 27.75764824240349 17.575611219393735\n",
      " 28.807603866590533]\n"
     ]
    }
   ],
   "source": [
    "print(sol, '\\n')\n",
    "\n",
    "print('sum x = ', np.sum(sol.x), '\\n')\n",
    "\n",
    "print(constraint(sol.x))"
   ]
  },
  {
   "cell_type": "markdown",
   "metadata": {},
   "source": [
    "### some numbers \n",
    "'''\n",
    "Make up roi curves\n",
    "'''\n",
    "\n",
    "np.random.seed(2032)\n",
    "\n",
    "'''\n",
    "Toy problem with 3 watersheds and 3 species\n",
    "'''\n",
    "\n",
    "np.random.seed(6873480)\n",
    "\n"
   ]
  },
  {
   "cell_type": "code",
   "execution_count": null,
   "metadata": {},
   "outputs": [],
   "source": []
  }
 ],
 "metadata": {
  "anaconda-cloud": {},
  "kernelspec": {
   "display_name": "Python 3",
   "language": "python",
   "name": "python3"
  },
  "language_info": {
   "codemirror_mode": {
    "name": "ipython",
    "version": 3
   },
   "file_extension": ".py",
   "mimetype": "text/x-python",
   "name": "python",
   "nbconvert_exporter": "python",
   "pygments_lexer": "ipython3",
   "version": "3.6.5"
  }
 },
 "nbformat": 4,
 "nbformat_minor": 1
}
